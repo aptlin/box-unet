{
  "nbformat": 4,
  "nbformat_minor": 0,
  "metadata": {
    "kernelspec": {
      "name": "python3",
      "display_name": "Python 3"
    },
    "language_info": {
      "codemirror_mode": {
        "name": "ipython",
        "version": 3
      },
      "file_extension": ".py",
      "mimetype": "text/x-python",
      "name": "python",
      "nbconvert_exporter": "python",
      "pygments_lexer": "ipython3",
      "version": "3.7.3"
    },
    "colab": {
      "name": "box-unet.ipynb",
      "provenance": []
    },
    "accelerator": "GPU"
  },
  "cells": [
    {
      "cell_type": "markdown",
      "metadata": {
        "id": "ppL1rIXqdxIl",
        "colab_type": "text"
      },
      "source": [
        "## Setup\n"
      ]
    },
    {
      "cell_type": "code",
      "metadata": {
        "id": "vx13bhU4du73",
        "colab_type": "code",
        "colab": {}
      },
      "source": [
        "! [[ -d box-unet ]] || git clone --quiet https://github.com/sdll/box-unet.git"
      ],
      "execution_count": 0,
      "outputs": []
    },
    {
      "cell_type": "code",
      "metadata": {
        "id": "SpcHaf_JeFQj",
        "colab_type": "code",
        "colab": {
          "base_uri": "https://localhost:8080/",
          "height": 34
        },
        "outputId": "3f44cf31-f91a-48b6-c946-4cbe15fae3f8"
      },
      "source": [
        "%cd box-unet"
      ],
      "execution_count": 2,
      "outputs": [
        {
          "output_type": "stream",
          "text": [
            "/content/box-unet\n"
          ],
          "name": "stdout"
        }
      ]
    },
    {
      "cell_type": "code",
      "metadata": {
        "id": "egMjTrEeeJKk",
        "colab_type": "code",
        "colab": {
          "base_uri": "https://localhost:8080/",
          "height": 391
        },
        "outputId": "42436317-be46-4971-e5d7-4293508abd2f"
      },
      "source": [
        "! [[ -f data.zip ]] || wget https://www.dropbox.com/s/m1ie2zq8nkburar/data.zip?raw=1 -O data.zip && unzip data.zip"
      ],
      "execution_count": 6,
      "outputs": [
        {
          "output_type": "stream",
          "text": [
            "Archive:  data.zip\n",
            "replace __MACOSX/._data? [y]es, [n]o, [A]ll, [N]one, [r]ename: A\n",
            "  inflating: __MACOSX/._data         \n",
            "  inflating: __MACOSX/data/._train   \n",
            "  inflating: __MACOSX/data/train/._ground_truth  \n",
            "  inflating: data/val/.DS_Store      \n",
            "  inflating: __MACOSX/data/val/._.DS_Store  \n",
            "  inflating: data/train/ground_truth/normalized_data.tensor  \n",
            "  inflating: __MACOSX/data/train/ground_truth/._normalized_data.tensor  \n",
            "  inflating: data/train/ground_truth/normed_crops.33.tensor  \n",
            "  inflating: data/train/noisy/normalized_data.tensor  \n",
            "  inflating: __MACOSX/data/train/noisy/._normalized_data.tensor  \n",
            "  inflating: data/train/noisy/normed_crops.33.tensor  \n",
            "  inflating: __MACOSX/data/train/noisy/._normed_crops.33.tensor  \n",
            "  inflating: data/val/ground_truth/normalized_data.tensor  \n",
            "  inflating: __MACOSX/data/val/ground_truth/._normalized_data.tensor  \n",
            "  inflating: data/val/ground_truth/normed_crops.33.tensor  \n",
            "  inflating: __MACOSX/data/val/ground_truth/._normed_crops.33.tensor  \n",
            "  inflating: data/val/noisy/normalized_data.tensor  \n",
            "  inflating: __MACOSX/data/val/noisy/._normalized_data.tensor  \n",
            "  inflating: data/val/noisy/normed_crops.33.tensor  \n",
            "  inflating: __MACOSX/data/val/noisy/._normed_crops.33.tensor  \n"
          ],
          "name": "stdout"
        }
      ]
    },
    {
      "cell_type": "code",
      "metadata": {
        "id": "HYmDj0ADegFk",
        "colab_type": "code",
        "colab": {
          "base_uri": "https://localhost:8080/",
          "height": 51
        },
        "outputId": "017c1b6f-a5ff-48e0-8262-4b2f94c1af7a"
      },
      "source": [
        "! pip install -q gsheet-keyring ipython-secrets comet_ml tqdm"
      ],
      "execution_count": 7,
      "outputs": [
        {
          "output_type": "stream",
          "text": [
            "\u001b[?25l\r\u001b[K     |▏                               | 10kB 33.2MB/s eta 0:00:01\r\u001b[K     |▎                               | 20kB 6.5MB/s eta 0:00:01\r\u001b[K     |▍                               | 30kB 9.2MB/s eta 0:00:01\r\u001b[K     |▋                               | 40kB 5.8MB/s eta 0:00:01\r\u001b[K     |▊                               | 51kB 7.1MB/s eta 0:00:01\r\u001b[K     |▉                               | 61kB 8.4MB/s eta 0:00:01\r\u001b[K     |█                               | 71kB 9.6MB/s eta 0:00:01\r\u001b[K     |█▏                              | 81kB 10.7MB/s eta 0:00:01\r\u001b[K     |█▎                              | 92kB 11.8MB/s eta 0:00:01\r\u001b[K     |█▍                              | 102kB 9.4MB/s eta 0:00:01\r\u001b[K     |█▋                              | 112kB 9.4MB/s eta 0:00:01\r\u001b[K     |█▊                              | 122kB 9.4MB/s eta 0:00:01\r\u001b[K     |█▉                              | 133kB 9.4MB/s eta 0:00:01\r\u001b[K     |██                              | 143kB 9.4MB/s eta 0:00:01\r\u001b[K     |██▏                             | 153kB 9.4MB/s eta 0:00:01\r\u001b[K     |██▎                             | 163kB 9.4MB/s eta 0:00:01\r\u001b[K     |██▌                             | 174kB 9.4MB/s eta 0:00:01\r\u001b[K     |██▋                             | 184kB 9.4MB/s eta 0:00:01\r\u001b[K     |██▊                             | 194kB 9.4MB/s eta 0:00:01\r\u001b[K     |██▉                             | 204kB 9.4MB/s eta 0:00:01\r\u001b[K     |███                             | 215kB 9.4MB/s eta 0:00:01\r\u001b[K     |███▏                            | 225kB 9.4MB/s eta 0:00:01\r\u001b[K     |███▎                            | 235kB 9.4MB/s eta 0:00:01\r\u001b[K     |███▌                            | 245kB 9.4MB/s eta 0:00:01\r\u001b[K     |███▋                            | 256kB 9.4MB/s eta 0:00:01\r\u001b[K     |███▊                            | 266kB 9.4MB/s eta 0:00:01\r\u001b[K     |████                            | 276kB 9.4MB/s eta 0:00:01\r\u001b[K     |████                            | 286kB 9.4MB/s eta 0:00:01\r\u001b[K     |████▏                           | 296kB 9.4MB/s eta 0:00:01\r\u001b[K     |████▎                           | 307kB 9.4MB/s eta 0:00:01\r\u001b[K     |████▌                           | 317kB 9.4MB/s eta 0:00:01\r\u001b[K     |████▋                           | 327kB 9.4MB/s eta 0:00:01\r\u001b[K     |████▊                           | 337kB 9.4MB/s eta 0:00:01\r\u001b[K     |█████                           | 348kB 9.4MB/s eta 0:00:01\r\u001b[K     |█████                           | 358kB 9.4MB/s eta 0:00:01\r\u001b[K     |█████▏                          | 368kB 9.4MB/s eta 0:00:01\r\u001b[K     |█████▎                          | 378kB 9.4MB/s eta 0:00:01\r\u001b[K     |█████▌                          | 389kB 9.4MB/s eta 0:00:01\r\u001b[K     |█████▋                          | 399kB 9.4MB/s eta 0:00:01\r\u001b[K     |█████▊                          | 409kB 9.4MB/s eta 0:00:01\r\u001b[K     |██████                          | 419kB 9.4MB/s eta 0:00:01\r\u001b[K     |██████                          | 430kB 9.4MB/s eta 0:00:01\r\u001b[K     |██████▏                         | 440kB 9.4MB/s eta 0:00:01\r\u001b[K     |██████▍                         | 450kB 9.4MB/s eta 0:00:01\r\u001b[K     |██████▌                         | 460kB 9.4MB/s eta 0:00:01\r\u001b[K     |██████▋                         | 471kB 9.4MB/s eta 0:00:01\r\u001b[K     |██████▊                         | 481kB 9.4MB/s eta 0:00:01\r\u001b[K     |███████                         | 491kB 9.4MB/s eta 0:00:01\r\u001b[K     |███████                         | 501kB 9.4MB/s eta 0:00:01\r\u001b[K     |███████▏                        | 512kB 9.4MB/s eta 0:00:01\r\u001b[K     |███████▍                        | 522kB 9.4MB/s eta 0:00:01\r\u001b[K     |███████▌                        | 532kB 9.4MB/s eta 0:00:01\r\u001b[K     |███████▋                        | 542kB 9.4MB/s eta 0:00:01\r\u001b[K     |███████▉                        | 552kB 9.4MB/s eta 0:00:01\r\u001b[K     |████████                        | 563kB 9.4MB/s eta 0:00:01\r\u001b[K     |████████                        | 573kB 9.4MB/s eta 0:00:01\r\u001b[K     |████████▏                       | 583kB 9.4MB/s eta 0:00:01\r\u001b[K     |████████▍                       | 593kB 9.4MB/s eta 0:00:01\r\u001b[K     |████████▌                       | 604kB 9.4MB/s eta 0:00:01\r\u001b[K     |████████▋                       | 614kB 9.4MB/s eta 0:00:01\r\u001b[K     |████████▉                       | 624kB 9.4MB/s eta 0:00:01\r\u001b[K     |█████████                       | 634kB 9.4MB/s eta 0:00:01\r\u001b[K     |█████████                       | 645kB 9.4MB/s eta 0:00:01\r\u001b[K     |█████████▏                      | 655kB 9.4MB/s eta 0:00:01\r\u001b[K     |█████████▍                      | 665kB 9.4MB/s eta 0:00:01\r\u001b[K     |█████████▌                      | 675kB 9.4MB/s eta 0:00:01\r\u001b[K     |█████████▋                      | 686kB 9.4MB/s eta 0:00:01\r\u001b[K     |█████████▉                      | 696kB 9.4MB/s eta 0:00:01\r\u001b[K     |██████████                      | 706kB 9.4MB/s eta 0:00:01\r\u001b[K     |██████████                      | 716kB 9.4MB/s eta 0:00:01\r\u001b[K     |██████████▎                     | 727kB 9.4MB/s eta 0:00:01\r\u001b[K     |██████████▍                     | 737kB 9.4MB/s eta 0:00:01\r\u001b[K     |██████████▌                     | 747kB 9.4MB/s eta 0:00:01\r\u001b[K     |██████████▋                     | 757kB 9.4MB/s eta 0:00:01\r\u001b[K     |██████████▉                     | 768kB 9.4MB/s eta 0:00:01\r\u001b[K     |███████████                     | 778kB 9.4MB/s eta 0:00:01\r\u001b[K     |███████████                     | 788kB 9.4MB/s eta 0:00:01\r\u001b[K     |███████████▎                    | 798kB 9.4MB/s eta 0:00:01\r\u001b[K     |███████████▍                    | 808kB 9.4MB/s eta 0:00:01\r\u001b[K     |███████████▌                    | 819kB 9.4MB/s eta 0:00:01\r\u001b[K     |███████████▊                    | 829kB 9.4MB/s eta 0:00:01\r\u001b[K     |███████████▉                    | 839kB 9.4MB/s eta 0:00:01\r\u001b[K     |████████████                    | 849kB 9.4MB/s eta 0:00:01\r\u001b[K     |████████████                    | 860kB 9.4MB/s eta 0:00:01\r\u001b[K     |████████████▎                   | 870kB 9.4MB/s eta 0:00:01\r\u001b[K     |████████████▍                   | 880kB 9.4MB/s eta 0:00:01\r\u001b[K     |████████████▌                   | 890kB 9.4MB/s eta 0:00:01\r\u001b[K     |████████████▊                   | 901kB 9.4MB/s eta 0:00:01\r\u001b[K     |████████████▉                   | 911kB 9.4MB/s eta 0:00:01\r\u001b[K     |█████████████                   | 921kB 9.4MB/s eta 0:00:01\r\u001b[K     |█████████████                   | 931kB 9.4MB/s eta 0:00:01\r\u001b[K     |█████████████▎                  | 942kB 9.4MB/s eta 0:00:01\r\u001b[K     |█████████████▍                  | 952kB 9.4MB/s eta 0:00:01\r\u001b[K     |█████████████▌                  | 962kB 9.4MB/s eta 0:00:01\r\u001b[K     |█████████████▊                  | 972kB 9.4MB/s eta 0:00:01\r\u001b[K     |█████████████▉                  | 983kB 9.4MB/s eta 0:00:01\r\u001b[K     |██████████████                  | 993kB 9.4MB/s eta 0:00:01\r\u001b[K     |██████████████▏                 | 1.0MB 9.4MB/s eta 0:00:01\r\u001b[K     |██████████████▎                 | 1.0MB 9.4MB/s eta 0:00:01\r\u001b[K     |██████████████▍                 | 1.0MB 9.4MB/s eta 0:00:01\r\u001b[K     |██████████████▌                 | 1.0MB 9.4MB/s eta 0:00:01\r\u001b[K     |██████████████▊                 | 1.0MB 9.4MB/s eta 0:00:01\r\u001b[K     |██████████████▉                 | 1.1MB 9.4MB/s eta 0:00:01\r\u001b[K     |███████████████                 | 1.1MB 9.4MB/s eta 0:00:01\r\u001b[K     |███████████████▏                | 1.1MB 9.4MB/s eta 0:00:01\r\u001b[K     |███████████████▎                | 1.1MB 9.4MB/s eta 0:00:01\r\u001b[K     |███████████████▍                | 1.1MB 9.4MB/s eta 0:00:01\r\u001b[K     |███████████████▋                | 1.1MB 9.4MB/s eta 0:00:01\r\u001b[K     |███████████████▊                | 1.1MB 9.4MB/s eta 0:00:01\r\u001b[K     |███████████████▉                | 1.1MB 9.4MB/s eta 0:00:01\r\u001b[K     |████████████████                | 1.1MB 9.4MB/s eta 0:00:01\r\u001b[K     |████████████████▏               | 1.1MB 9.4MB/s eta 0:00:01\r\u001b[K     |████████████████▎               | 1.2MB 9.4MB/s eta 0:00:01\r\u001b[K     |████████████████▍               | 1.2MB 9.4MB/s eta 0:00:01\r\u001b[K     |████████████████▋               | 1.2MB 9.4MB/s eta 0:00:01\r\u001b[K     |████████████████▊               | 1.2MB 9.4MB/s eta 0:00:01\r\u001b[K     |████████████████▉               | 1.2MB 9.4MB/s eta 0:00:01\r\u001b[K     |█████████████████               | 1.2MB 9.4MB/s eta 0:00:01\r\u001b[K     |█████████████████▏              | 1.2MB 9.4MB/s eta 0:00:01\r\u001b[K     |█████████████████▎              | 1.2MB 9.4MB/s eta 0:00:01\r\u001b[K     |█████████████████▍              | 1.2MB 9.4MB/s eta 0:00:01\r\u001b[K     |█████████████████▋              | 1.2MB 9.4MB/s eta 0:00:01\r\u001b[K     |█████████████████▊              | 1.3MB 9.4MB/s eta 0:00:01\r\u001b[K     |█████████████████▉              | 1.3MB 9.4MB/s eta 0:00:01\r\u001b[K     |██████████████████              | 1.3MB 9.4MB/s eta 0:00:01\r\u001b[K     |██████████████████▏             | 1.3MB 9.4MB/s eta 0:00:01\r\u001b[K     |██████████████████▎             | 1.3MB 9.4MB/s eta 0:00:01\r\u001b[K     |██████████████████▍             | 1.3MB 9.4MB/s eta 0:00:01\r\u001b[K     |██████████████████▋             | 1.3MB 9.4MB/s eta 0:00:01\r\u001b[K     |██████████████████▊             | 1.3MB 9.4MB/s eta 0:00:01\r\u001b[K     |██████████████████▉             | 1.3MB 9.4MB/s eta 0:00:01\r\u001b[K     |███████████████████             | 1.4MB 9.4MB/s eta 0:00:01\r\u001b[K     |███████████████████▏            | 1.4MB 9.4MB/s eta 0:00:01\r\u001b[K     |███████████████████▎            | 1.4MB 9.4MB/s eta 0:00:01\r\u001b[K     |███████████████████▌            | 1.4MB 9.4MB/s eta 0:00:01\r\u001b[K     |███████████████████▋            | 1.4MB 9.4MB/s eta 0:00:01\r\u001b[K     |███████████████████▊            | 1.4MB 9.4MB/s eta 0:00:01\r\u001b[K     |███████████████████▉            | 1.4MB 9.4MB/s eta 0:00:01\r\u001b[K     |████████████████████            | 1.4MB 9.4MB/s eta 0:00:01\r\u001b[K     |████████████████████▏           | 1.4MB 9.4MB/s eta 0:00:01\r\u001b[K     |████████████████████▎           | 1.4MB 9.4MB/s eta 0:00:01\r\u001b[K     |████████████████████▌           | 1.5MB 9.4MB/s eta 0:00:01\r\u001b[K     |████████████████████▋           | 1.5MB 9.4MB/s eta 0:00:01\r\u001b[K     |████████████████████▊           | 1.5MB 9.4MB/s eta 0:00:01\r\u001b[K     |████████████████████▉           | 1.5MB 9.4MB/s eta 0:00:01\r\u001b[K     |█████████████████████           | 1.5MB 9.4MB/s eta 0:00:01\r\u001b[K     |█████████████████████▏          | 1.5MB 9.4MB/s eta 0:00:01\r\u001b[K     |█████████████████████▎          | 1.5MB 9.4MB/s eta 0:00:01\r\u001b[K     |█████████████████████▌          | 1.5MB 9.4MB/s eta 0:00:01\r\u001b[K     |█████████████████████▋          | 1.5MB 9.4MB/s eta 0:00:01\r\u001b[K     |█████████████████████▊          | 1.5MB 9.4MB/s eta 0:00:01\r\u001b[K     |██████████████████████          | 1.6MB 9.4MB/s eta 0:00:01\r\u001b[K     |██████████████████████          | 1.6MB 9.4MB/s eta 0:00:01\r\u001b[K     |██████████████████████▏         | 1.6MB 9.4MB/s eta 0:00:01\r\u001b[K     |██████████████████████▎         | 1.6MB 9.4MB/s eta 0:00:01\r\u001b[K     |██████████████████████▌         | 1.6MB 9.4MB/s eta 0:00:01\r\u001b[K     |██████████████████████▋         | 1.6MB 9.4MB/s eta 0:00:01\r\u001b[K     |██████████████████████▊         | 1.6MB 9.4MB/s eta 0:00:01\r\u001b[K     |███████████████████████         | 1.6MB 9.4MB/s eta 0:00:01\r\u001b[K     |███████████████████████         | 1.6MB 9.4MB/s eta 0:00:01\r\u001b[K     |███████████████████████▏        | 1.6MB 9.4MB/s eta 0:00:01\r\u001b[K     |███████████████████████▍        | 1.7MB 9.4MB/s eta 0:00:01\r\u001b[K     |███████████████████████▌        | 1.7MB 9.4MB/s eta 0:00:01\r\u001b[K     |███████████████████████▋        | 1.7MB 9.4MB/s eta 0:00:01\r\u001b[K     |███████████████████████▊        | 1.7MB 9.4MB/s eta 0:00:01\r\u001b[K     |████████████████████████        | 1.7MB 9.4MB/s eta 0:00:01\r\u001b[K     |████████████████████████        | 1.7MB 9.4MB/s eta 0:00:01\r\u001b[K     |████████████████████████▏       | 1.7MB 9.4MB/s eta 0:00:01\r\u001b[K     |████████████████████████▍       | 1.7MB 9.4MB/s eta 0:00:01\r\u001b[K     |████████████████████████▌       | 1.7MB 9.4MB/s eta 0:00:01\r\u001b[K     |████████████████████████▋       | 1.8MB 9.4MB/s eta 0:00:01\r\u001b[K     |████████████████████████▊       | 1.8MB 9.4MB/s eta 0:00:01\r\u001b[K     |█████████████████████████       | 1.8MB 9.4MB/s eta 0:00:01\r\u001b[K     |█████████████████████████       | 1.8MB 9.4MB/s eta 0:00:01\r\u001b[K     |█████████████████████████▏      | 1.8MB 9.4MB/s eta 0:00:01\r\u001b[K     |█████████████████████████▍      | 1.8MB 9.4MB/s eta 0:00:01\r\u001b[K     |█████████████████████████▌      | 1.8MB 9.4MB/s eta 0:00:01\r\u001b[K     |█████████████████████████▋      | 1.8MB 9.4MB/s eta 0:00:01\r\u001b[K     |█████████████████████████▉      | 1.8MB 9.4MB/s eta 0:00:01\r\u001b[K     |██████████████████████████      | 1.8MB 9.4MB/s eta 0:00:01\r\u001b[K     |██████████████████████████      | 1.9MB 9.4MB/s eta 0:00:01\r\u001b[K     |██████████████████████████▏     | 1.9MB 9.4MB/s eta 0:00:01\r\u001b[K     |██████████████████████████▍     | 1.9MB 9.4MB/s eta 0:00:01\r\u001b[K     |██████████████████████████▌     | 1.9MB 9.4MB/s eta 0:00:01\r\u001b[K     |██████████████████████████▋     | 1.9MB 9.4MB/s eta 0:00:01\r\u001b[K     |██████████████████████████▉     | 1.9MB 9.4MB/s eta 0:00:01\r\u001b[K     |███████████████████████████     | 1.9MB 9.4MB/s eta 0:00:01\r\u001b[K     |███████████████████████████     | 1.9MB 9.4MB/s eta 0:00:01\r\u001b[K     |███████████████████████████▎    | 1.9MB 9.4MB/s eta 0:00:01\r\u001b[K     |███████████████████████████▍    | 1.9MB 9.4MB/s eta 0:00:01\r\u001b[K     |███████████████████████████▌    | 2.0MB 9.4MB/s eta 0:00:01\r\u001b[K     |███████████████████████████▋    | 2.0MB 9.4MB/s eta 0:00:01\r\u001b[K     |███████████████████████████▉    | 2.0MB 9.4MB/s eta 0:00:01\r\u001b[K     |████████████████████████████    | 2.0MB 9.4MB/s eta 0:00:01\r\u001b[K     |████████████████████████████    | 2.0MB 9.4MB/s eta 0:00:01\r\u001b[K     |████████████████████████████▎   | 2.0MB 9.4MB/s eta 0:00:01\r\u001b[K     |████████████████████████████▍   | 2.0MB 9.4MB/s eta 0:00:01\r\u001b[K     |████████████████████████████▌   | 2.0MB 9.4MB/s eta 0:00:01\r\u001b[K     |████████████████████████████▋   | 2.0MB 9.4MB/s eta 0:00:01\r\u001b[K     |████████████████████████████▉   | 2.0MB 9.4MB/s eta 0:00:01\r\u001b[K     |█████████████████████████████   | 2.1MB 9.4MB/s eta 0:00:01\r\u001b[K     |█████████████████████████████   | 2.1MB 9.4MB/s eta 0:00:01\r\u001b[K     |█████████████████████████████▎  | 2.1MB 9.4MB/s eta 0:00:01\r\u001b[K     |█████████████████████████████▍  | 2.1MB 9.4MB/s eta 0:00:01\r\u001b[K     |█████████████████████████████▌  | 2.1MB 9.4MB/s eta 0:00:01\r\u001b[K     |█████████████████████████████▊  | 2.1MB 9.4MB/s eta 0:00:01\r\u001b[K     |█████████████████████████████▉  | 2.1MB 9.4MB/s eta 0:00:01\r\u001b[K     |██████████████████████████████  | 2.1MB 9.4MB/s eta 0:00:01\r\u001b[K     |██████████████████████████████  | 2.1MB 9.4MB/s eta 0:00:01\r\u001b[K     |██████████████████████████████▎ | 2.2MB 9.4MB/s eta 0:00:01\r\u001b[K     |██████████████████████████████▍ | 2.2MB 9.4MB/s eta 0:00:01\r\u001b[K     |██████████████████████████████▌ | 2.2MB 9.4MB/s eta 0:00:01\r\u001b[K     |██████████████████████████████▊ | 2.2MB 9.4MB/s eta 0:00:01\r\u001b[K     |██████████████████████████████▉ | 2.2MB 9.4MB/s eta 0:00:01\r\u001b[K     |███████████████████████████████ | 2.2MB 9.4MB/s eta 0:00:01\r\u001b[K     |███████████████████████████████▏| 2.2MB 9.4MB/s eta 0:00:01\r\u001b[K     |███████████████████████████████▎| 2.2MB 9.4MB/s eta 0:00:01\r\u001b[K     |███████████████████████████████▍| 2.2MB 9.4MB/s eta 0:00:01\r\u001b[K     |███████████████████████████████▌| 2.2MB 9.4MB/s eta 0:00:01\r\u001b[K     |███████████████████████████████▊| 2.3MB 9.4MB/s eta 0:00:01\r\u001b[K     |███████████████████████████████▉| 2.3MB 9.4MB/s eta 0:00:01\r\u001b[K     |████████████████████████████████| 2.3MB 9.4MB/s eta 0:00:01\r\u001b[K     |████████████████████████████████| 2.3MB 9.4MB/s \n",
            "\u001b[?25h  Building wheel for configobj (setup.py) ... \u001b[?25l\u001b[?25hdone\n"
          ],
          "name": "stdout"
        }
      ]
    },
    {
      "cell_type": "code",
      "metadata": {
        "id": "TrykSf0DgAi0",
        "colab_type": "code",
        "colab": {
          "base_uri": "https://localhost:8080/",
          "height": 34
        },
        "outputId": "a8198f14-d50c-4937-beeb-63655be529a2"
      },
      "source": [
        "! python3 -m pip install -q git+https://github.com/shrubb/box-convolutions.git"
      ],
      "execution_count": 8,
      "outputs": [
        {
          "output_type": "stream",
          "text": [
            "  Building wheel for box-convolution (setup.py) ... \u001b[?25l\u001b[?25hdone\n"
          ],
          "name": "stdout"
        }
      ]
    },
    {
      "cell_type": "markdown",
      "metadata": {
        "id": "doORQcvdddJM",
        "colab_type": "text"
      },
      "source": [
        "## Imports"
      ]
    },
    {
      "cell_type": "code",
      "metadata": {
        "id": "cnajDvR1dSeN",
        "colab_type": "code",
        "colab": {}
      },
      "source": [
        "from comet_ml import Experiment\n",
        "\n",
        "import argparse\n",
        "from pathlib import Path\n",
        "\n",
        "import matplotlib.pyplot as plt\n",
        "import numpy as np\n",
        "import pandas as pd\n",
        "import seaborn as sns\n",
        "import torch\n",
        "from torch import nn, optim\n",
        "from torch.utils.data import DataLoader\n",
        "from tqdm import tqdm as tqdm_base\n",
        "\n",
        "from box_unet import BoxUNet as Model\n",
        "from ipython_secrets import get_secret\n",
        "from pytorch_ssim import ssim\n",
        "\n",
        "sns.set()\n",
        "\n",
        "\n",
        "def tqdm(*args, **kwargs):\n",
        "    if hasattr(tqdm_base, \"_instances\"):\n",
        "        for instance in list(tqdm_base._instances):\n",
        "            tqdm_base._decr_instances(instance)\n",
        "    return tqdm_base(*args, **kwargs)"
      ],
      "execution_count": 0,
      "outputs": []
    },
    {
      "cell_type": "markdown",
      "metadata": {
        "id": "UR8sdRn8djis",
        "colab_type": "text"
      },
      "source": [
        "## Environment"
      ]
    },
    {
      "cell_type": "code",
      "metadata": {
        "id": "9ctXnXp_dSea",
        "colab_type": "code",
        "colab": {}
      },
      "source": [
        "DATA_PATH = \"data\"\n",
        "GROUND_TRUTH_LABEL = \"ground_truth\"\n",
        "NOISY_IMAGES_LABEL = \"noisy\"\n",
        "TRAIN_LABEL = \"train\"\n",
        "TEST_LABEL = \"val\"\n",
        "TRAIN_POSTFIX = \"normed_crops.33.tensor\"\n",
        "TEST_POSTFIX = TRAIN_POSTFIX\n",
        "TRAIN_GT_DATA = Path(DATA_PATH) / TRAIN_LABEL / GROUND_TRUTH_LABEL / TRAIN_POSTFIX\n",
        "TRAIN_NOISY_DATA = Path(DATA_PATH) / TRAIN_LABEL / NOISY_IMAGES_LABEL / TRAIN_POSTFIX\n",
        "TEST_GT_DATA = Path(DATA_PATH) / TEST_LABEL / GROUND_TRUTH_LABEL / TEST_POSTFIX\n",
        "TEST_NOISY_DATA = Path(DATA_PATH) / TEST_LABEL / NOISY_IMAGES_LABEL / TEST_POSTFIX\n",
        "\n",
        "DEVICE = \"cuda\"\n",
        "\n",
        "PROJECT = \"fastrino\"\n",
        "COMET_ML_API_KEY = get_secret(\"comet-{}\".format(PROJECT))"
      ],
      "execution_count": 0,
      "outputs": []
    },
    {
      "cell_type": "markdown",
      "metadata": {
        "id": "YBOjFtphdl37",
        "colab_type": "text"
      },
      "source": [
        "## Utilities"
      ]
    },
    {
      "cell_type": "code",
      "metadata": {
        "id": "UQK26VPcdSeo",
        "colab_type": "code",
        "colab": {}
      },
      "source": [
        "def get_arg_parser():\n",
        "    parser = argparse.ArgumentParser()\n",
        "    parser.add_argument(\"--max-input-h\", type=int, default=64)\n",
        "    parser.add_argument(\"--max-input-w\", type=int, default=64)\n",
        "    parser.add_argument(\"--lr\", type=float, default=1e-4)\n",
        "    parser.add_argument(\"--batch-size\", type=int, default=32)\n",
        "    parser.add_argument(\"--num-epochs\", type=int, default=5)\n",
        "    parser.add_argument(\"--seed\", type=int, default=42)\n",
        "\n",
        "    return parser\n",
        "\n",
        "\n",
        "def get_criterion():\n",
        "    return nn.MSELoss()\n",
        "\n",
        "\n",
        "def get_optimizer(model, lr=0.001):\n",
        "    return optim.Adam(model.parameters(), lr)\n",
        "\n",
        "\n",
        "def psnr(prediction, target, max_pixel=255.0):\n",
        "    return 10.0 * ((max_pixel ** 2) / ((prediction - target) ** 2).mean()).log10()\n",
        "\n",
        "\n",
        "class PlaneLoader(torch.utils.data.Dataset):\n",
        "    def __init__(self, gt_data, noisy_data):\n",
        "        self.gt_data = torch.load(gt_data)\n",
        "        self.noisy_data = torch.load(noisy_data)\n",
        "\n",
        "    def __len__(self):\n",
        "        return len(self.noisy_data)\n",
        "\n",
        "    def __getitem__(self, index):\n",
        "        return (\n",
        "            self.gt_data[index][:, :],\n",
        "            self.noisy_data[index][:, :],\n",
        "        )\n",
        "\n",
        "\n",
        "def train():\n",
        "    parser = get_arg_parser()\n",
        "    args = parser.parse_args(args=[])\n",
        "    train_loader = torch.utils.data.DataLoader(\n",
        "        PlaneLoader(TRAIN_GT_DATA, TRAIN_NOISY_DATA),\n",
        "        batch_size=args.batch_size,\n",
        "        shuffle=True,\n",
        "    )\n",
        "\n",
        "    test_loader = torch.utils.data.DataLoader(\n",
        "        PlaneLoader(TEST_GT_DATA, TEST_NOISY_DATA),\n",
        "        batch_size=args.batch_size,\n",
        "        shuffle=False,\n",
        "    )\n",
        "    image, noise = next(iter(train_loader))\n",
        "\n",
        "    args.in_channels = 1 if len(image.shape) == 3 else image.shape[1]\n",
        "    experiment = Experiment(\n",
        "        api_key=COMET_ML_API_KEY,\n",
        "        project_name=PROJECT,\n",
        "        workspace=PROJECT,\n",
        "        auto_output_logging=None,\n",
        "    )\n",
        "    experiment.log_parameters(vars(args))\n",
        "\n",
        "    model = Model(\n",
        "        args.in_channels, args.in_channels, args.max_input_h, args.max_input_w,\n",
        "    ).to(DEVICE)\n",
        "\n",
        "    criterion = get_criterion()\n",
        "    optimizer = get_optimizer(model, args.lr)\n",
        "\n",
        "    for epoch in tqdm(range(args.num_epochs), desc=\"Epoch\", unit=\"epochs\"):\n",
        "        with experiment.train():\n",
        "            model.train()\n",
        "            train_psnr = []\n",
        "            train_ssim = []\n",
        "\n",
        "            for image, noise in tqdm(train_loader, desc=\"Train images\", unit=\"images\"):\n",
        "                image = image.to(DEVICE)\n",
        "                noise = noise.to(DEVICE)\n",
        "\n",
        "                prediction = model(image)\n",
        "                loss = criterion(prediction, noise)\n",
        "\n",
        "                loss.backward()\n",
        "                optimizer.step()\n",
        "                optimizer.zero_grad()\n",
        "\n",
        "                current_psnr = psnr(image - prediction, image - noise).data.item()\n",
        "                current_ssim = ssim(image - prediction, image - noise).data.item()\n",
        "                train_psnr.append(current_psnr)\n",
        "                train_ssim.append(current_ssim)\n",
        "                experiment.log_metric(\"psnr\", current_psnr)\n",
        "                experiment.log_metric(\"ssim\", current_ssim)\n",
        "                experiment.log_metric(\"loss\", loss.data.item())\n",
        "\n",
        "            experiment.log_metric(\"mean_psnr\", np.mean(train_psnr))\n",
        "            experiment.log_metric(\"mean_ssim\", np.mean(train_ssim))\n",
        "\n",
        "    with experiment.test():\n",
        "        model.eval()\n",
        "        test_losses = []\n",
        "        test_psnr = []\n",
        "        test_ssim = []\n",
        "        for image, noise in test_loader:\n",
        "            image = image.to(DEVICE)\n",
        "            noise = noise.to(DEVICE)\n",
        "            prediction = model(image)\n",
        "            current_psnr = psnr(image - prediction, image - noise).data.item()\n",
        "            current_ssim = ssim(image - prediction, image - noise).data.item()\n",
        "            test_psnr.append(current_psnr)\n",
        "            test_ssim.append(current_ssim)\n",
        "            test_losses.append(criterion(prediction, noise).data.item())\n",
        "\n",
        "        test_psnr = np.mean(test_psnr)\n",
        "        test_ssim = np.mean(test_ssim)\n",
        "        test_loss = np.mean(test_losses)\n",
        "\n",
        "        experiment.log_metric(\"mean_psnr\", test_psnr)\n",
        "        experiment.log_metric(\"mean_ssim\", test_ssim)\n",
        "        experiment.log_metric(\"mean_loss\", test_loss)\n",
        "\n",
        "    return test_psnr, test_ssim, test_loss"
      ],
      "execution_count": 0,
      "outputs": []
    },
    {
      "cell_type": "code",
      "metadata": {
        "id": "1VY7foQWdSey",
        "colab_type": "code",
        "colab": {
          "base_uri": "https://localhost:8080/",
          "height": 680
        },
        "outputId": "027ca108-76ac-475b-a911-0932fc46d14a"
      },
      "source": [
        "test_psnr, test_ssim, test_loss = train()"
      ],
      "execution_count": 13,
      "outputs": [
        {
          "output_type": "stream",
          "text": [
            "COMET INFO: ----------------------------\n",
            "COMET INFO: Comet.ml Experiment Summary:\n",
            "COMET INFO:   Data:\n",
            "COMET INFO:     url: https://www.comet.ml/fastrino/fastrino/90886c615c8f4643ab70a01aa5e22457\n",
            "COMET INFO:   Metrics [count] (min, max):\n",
            "COMET INFO:     sys.cpu.percent.01 [3]             : (0.9, 49.6)\n",
            "COMET INFO:     sys.cpu.percent.02 [3]             : (0.9, 40.5)\n",
            "COMET INFO:     sys.cpu.percent.avg [3]            : (0.9, 45.05)\n",
            "COMET INFO:     sys.gpu.0.free_memory [3]          : (14455537664.0, 15812198400.0)\n",
            "COMET INFO:     sys.gpu.0.gpu_utilization [3]      : (0.0, 0.0)\n",
            "COMET INFO:     sys.gpu.0.total_memory             : (15812263936.0, 15812263936.0)\n",
            "COMET INFO:     sys.gpu.0.used_memory [3]          : (65536.0, 1356726272.0)\n",
            "COMET INFO:     sys.ram.total [3]                  : (13655232512.0, 13655232512.0)\n",
            "COMET INFO:     sys.ram.used [3]                   : (1343336448.0, 4130967552.0)\n",
            "COMET INFO:     test_mean_loss                     : (0.018405649555882756, 0.018405649555882756)\n",
            "COMET INFO:     test_mean_psnr                     : (69.26682504525962, 69.26682504525962)\n",
            "COMET INFO:     test_mean_ssim                     : (0.4192323627087255, 0.4192323627087255)\n",
            "COMET INFO:     train_loss [12551]                 : (0.003036108333617449, 0.3145865797996521)\n",
            "COMET INFO:     train_mean_psnr [5]                : (66.20276576484326, 67.72110073280167)\n",
            "COMET INFO:     train_mean_ssim [5]                : (0.378509187856836, 0.4845317647736079)\n",
            "COMET INFO:     train_psnr [11410]                 : (53.153404235839844, 73.30763244628906)\n",
            "COMET INFO:     train_ssim [11410]                 : (-0.006846705451607704, 0.6311700344085693)\n",
            "COMET INFO:     train_sys.cpu.percent.01 [6]       : (46.5, 59.0)\n",
            "COMET INFO:     train_sys.cpu.percent.02 [6]       : (50.6, 62.7)\n",
            "COMET INFO:     train_sys.cpu.percent.avg [6]      : (49.05, 54.8)\n",
            "COMET INFO:     train_sys.gpu.0.free_memory [7]    : (14564589568.0, 14564589568.0)\n",
            "COMET INFO:     train_sys.gpu.0.gpu_utilization [7]: (63.0, 86.0)\n",
            "COMET INFO:     train_sys.gpu.0.used_memory [7]    : (1247674368.0, 1247674368.0)\n",
            "COMET INFO:     train_sys.ram.total [6]            : (13655232512.0, 13655232512.0)\n",
            "COMET INFO:     train_sys.ram.used [6]             : (4120928256.0, 4130959360.0)\n",
            "COMET INFO: ----------------------------\n",
            "COMET INFO: Experiment is live on comet.ml https://www.comet.ml/fastrino/fastrino/f65b91edbcac44b19caf63b2e22bb24f\n",
            "\n",
            "Train images: 100%|██████████| 2282/2282 [01:30<00:00, 25.23images/s]\n",
            "Train images: 100%|██████████| 2282/2282 [01:29<00:00, 25.44images/s]\n",
            "Train images: 100%|██████████| 2282/2282 [01:29<00:00, 25.47images/s]\n",
            "Train images: 100%|██████████| 2282/2282 [01:29<00:00, 25.43images/s]\n",
            "Train images: 100%|██████████| 2282/2282 [01:29<00:00, 25.47images/s]\n",
            "Epoch: 100%|██████████| 5/5 [07:29<00:00, 89.85s/epochs]\n"
          ],
          "name": "stderr"
        }
      ]
    },
    {
      "cell_type": "code",
      "metadata": {
        "id": "1x9zphHYhb6G",
        "colab_type": "code",
        "colab": {
          "base_uri": "https://localhost:8080/",
          "height": 68
        },
        "outputId": "5237b274-471d-4695-a782-8d4465350e92"
      },
      "source": [
        "print(\"Mean Test PSNR: {}\\nMean Test SSIM: {}\\nMean Test Loss: {}\".format(test_psnr, test_ssim, test_loss))"
      ],
      "execution_count": 14,
      "outputs": [
        {
          "output_type": "stream",
          "text": [
            "Mean Test PSNR: 70.6452029292195\n",
            "Mean Test SSIM: 0.4837297156405525\n",
            "Mean Test Loss: 0.02190944241949717\n"
          ],
          "name": "stdout"
        }
      ]
    },
    {
      "cell_type": "code",
      "metadata": {
        "id": "w72RJV10miaX",
        "colab_type": "code",
        "colab": {}
      },
      "source": [
        ""
      ],
      "execution_count": 0,
      "outputs": []
    }
  ]
}